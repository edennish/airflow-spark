{
 "cells": [
  {
   "cell_type": "markdown",
   "metadata": {},
   "source": [
    "# Spark Session"
   ]
  },
  {
   "cell_type": "code",
   "execution_count": 1,
   "metadata": {},
   "outputs": [
    {
     "name": "stderr",
     "output_type": "stream",
     "text": [
      "WARNING: An illegal reflective access operation has occurred\n",
      "WARNING: Illegal reflective access by org.apache.spark.unsafe.Platform (file:/usr/local/spark-3.1.2-bin-hadoop3.2/jars/spark-unsafe_2.12-3.1.2.jar) to constructor java.nio.DirectByteBuffer(long,int)\n",
      "WARNING: Please consider reporting this to the maintainers of org.apache.spark.unsafe.Platform\n",
      "WARNING: Use --illegal-access=warn to enable warnings of further illegal reflective access operations\n",
      "WARNING: All illegal access operations will be denied in a future release\n"
     ]
    },
    {
     "name": "stdout",
     "output_type": "stream",
     "text": [
      ":: loading settings :: url = jar:file:/usr/local/spark-3.1.2-bin-hadoop3.2/jars/ivy-2.4.0.jar!/org/apache/ivy/core/settings/ivysettings.xml\n"
     ]
    },
    {
     "name": "stderr",
     "output_type": "stream",
     "text": [
      "Ivy Default Cache set to: /home/jovyan/.ivy2/cache\n",
      "The jars for the packages stored in: /home/jovyan/.ivy2/jars\n",
      "org.postgresql#postgresql added as a dependency\n",
      "com.amazonaws#aws-java-sdk-bundle added as a dependency\n",
      "org.apache.hadoop#hadoop-aws added as a dependency\n",
      ":: resolving dependencies :: org.apache.spark#spark-submit-parent-9fa00718-349b-499a-b912-ae161204b746;1.0\n",
      "\tconfs: [default]\n",
      "\tfound org.postgresql#postgresql;9.4.1207 in central\n",
      "\tfound com.amazonaws#aws-java-sdk-bundle;1.11.315 in central\n",
      "\tfound io.netty#netty-codec-http;4.1.17.Final in central\n",
      "\tfound io.netty#netty-codec;4.1.17.Final in central\n",
      "\tfound io.netty#netty-transport;4.1.17.Final in central\n",
      "\tfound io.netty#netty-buffer;4.1.17.Final in central\n",
      "\tfound io.netty#netty-common;4.1.17.Final in central\n",
      "\tfound io.netty#netty-resolver;4.1.17.Final in central\n",
      "\tfound io.netty#netty-handler;4.1.17.Final in central\n",
      "\tfound org.apache.hadoop#hadoop-aws;3.2.0 in central\n",
      "\tfound com.amazonaws#aws-java-sdk-bundle;1.11.375 in central\n",
      "downloading https://repo1.maven.org/maven2/org/apache/hadoop/hadoop-aws/3.2.0/hadoop-aws-3.2.0.jar ...\n",
      "\t[SUCCESSFUL ] org.apache.hadoop#hadoop-aws;3.2.0!hadoop-aws.jar (64ms)\n",
      "downloading https://repo1.maven.org/maven2/com/amazonaws/aws-java-sdk-bundle/1.11.375/aws-java-sdk-bundle-1.11.375.jar ...\n",
      "\t[SUCCESSFUL ] com.amazonaws#aws-java-sdk-bundle;1.11.375!aws-java-sdk-bundle.jar (2842ms)\n",
      ":: resolution report :: resolve 4065ms :: artifacts dl 2912ms\n",
      "\t:: modules in use:\n",
      "\tcom.amazonaws#aws-java-sdk-bundle;1.11.375 from central in [default]\n",
      "\torg.apache.hadoop#hadoop-aws;3.2.0 from central in [default]\n",
      "\torg.postgresql#postgresql;9.4.1207 from central in [default]\n",
      "\t:: evicted modules:\n",
      "\tcom.amazonaws#aws-java-sdk-bundle;1.11.315 by [com.amazonaws#aws-java-sdk-bundle;1.11.375] in [default]\n",
      "\tio.netty#netty-codec-http;4.1.17.Final transitively in [default]\n",
      "\tio.netty#netty-codec;4.1.17.Final transitively in [default]\n",
      "\tio.netty#netty-transport;4.1.17.Final transitively in [default]\n",
      "\tio.netty#netty-buffer;4.1.17.Final transitively in [default]\n",
      "\tio.netty#netty-common;4.1.17.Final transitively in [default]\n",
      "\tio.netty#netty-resolver;4.1.17.Final transitively in [default]\n",
      "\tio.netty#netty-handler;4.1.17.Final transitively in [default]\n",
      "\t---------------------------------------------------------------------\n",
      "\t|                  |            modules            ||   artifacts   |\n",
      "\t|       conf       | number| search|dwnlded|evicted|| number|dwnlded|\n",
      "\t---------------------------------------------------------------------\n",
      "\t|      default     |   11  |   2   |   2   |   8   ||   3   |   2   |\n",
      "\t---------------------------------------------------------------------\n",
      ":: retrieving :: org.apache.spark#spark-submit-parent-9fa00718-349b-499a-b912-ae161204b746\n",
      "\tconfs: [default]\n",
      "\t2 artifacts copied, 1 already retrieved (96887kB/152ms)\n",
      "21/12/29 17:27:36 WARN NativeCodeLoader: Unable to load native-hadoop library for your platform... using builtin-java classes where applicable\n",
      "Using Spark's default log4j profile: org/apache/spark/log4j-defaults.properties\n",
      "Setting default log level to \"WARN\".\n",
      "To adjust logging level use sc.setLogLevel(newLevel). For SparkR, use setLogLevel(newLevel).\n"
     ]
    }
   ],
   "source": [
    "from pyspark.sql import SparkSession\n",
    "\n",
    "# Spark session & context\n",
    "spark = (SparkSession\n",
    "         .builder\n",
    "         .master(\"spark://spark:7077\")\n",
    "         .appName(\"read-postgres\")\n",
    "         # Add JARS\n",
    "         #.config('spark.jars.packages', 'org.postgresql:postgresql:9.4.1207,com.amazonaws:aws-java-sdk-bundle:1.11.315,org.apache.hadoop:hadoop-aws:3.2.0') \n",
    "         .config('spark.jars.packages', 'org.postgresql:postgresql:9.4.1207,com.amazonaws:aws-java-sdk-bundle:1.11.315,org.apache.hadoop:hadoop-aws:3.2.0')\n",
    "         .config(\"spark.hadoop.fs.s3a.endpoint\", \"http://minio:9000\")\n",
    "         .config(\"spark.hadoop.fs.s3a.access.key\", \"minio\")\n",
    "         .config(\"spark.hadoop.fs.s3a.secret.key\", \"miniosecret\")\n",
    "         .config(\"spark.hadoop.fs.s3a.path.style.access\", True)\n",
    "         .config(\"spark.hadoop.fs.s3a.impl\", \"org.apache.hadoop.fs.s3a.S3AFileSystem\")\n",
    "         .enableHiveSupport()\n",
    "         .getOrCreate())"
   ]
  },
  {
   "cell_type": "markdown",
   "metadata": {},
   "source": [
    "# Reading from PgSQL"
   ]
  },
  {
   "cell_type": "code",
   "execution_count": 15,
   "metadata": {},
   "outputs": [
    {
     "name": "stdout",
     "output_type": "stream",
     "text": [
      "+---------+\n",
      "|namespace|\n",
      "+---------+\n",
      "|  default|\n",
      "+---------+\n",
      "\n"
     ]
    }
   ],
   "source": [
    "spark.sql(\"show databases\").show()"
   ]
  },
  {
   "cell_type": "code",
   "execution_count": 2,
   "metadata": {},
   "outputs": [
    {
     "name": "stderr",
     "output_type": "stream",
     "text": [
      "[Stage 0:>                                                          (0 + 1) / 1]\r"
     ]
    },
    {
     "name": "stdout",
     "output_type": "stream",
     "text": [
      "+--------------------+---------+---------+---------+--------------------+------------+------------+--------------+---------+--------------------+-------+--------------------+------------+--------------------+-----------+\n",
      "|              dag_id|is_paused|is_subdag|is_active|  last_scheduler_run|last_pickled|last_expired|scheduler_lock|pickle_id|             fileloc| owners|         description|default_view|   schedule_interval|root_dag_id|\n",
      "+--------------------+---------+---------+---------+--------------------+------------+------------+--------------+---------+--------------------+-------+--------------------+------------+--------------------+-----------+\n",
      "|      spark-postgres|     true|    false|     true|2021-12-29 17:27:...|        null|        null|          null|     null|/usr/local/airflo...|airflow|This DAG is a sam...|        null|{\"type\": \"timedel...|       null|\n",
      "|spark-hello-world...|     true|    false|     true|2021-12-29 17:27:...|        null|        null|          null|     null|/usr/local/airflo...|airflow|This DAG runs a P...|        null|{\"type\": \"timedel...|       null|\n",
      "|          spark-test|     true|    false|     true|2021-12-29 17:27:...|        null|        null|          null|     null|/usr/local/airflo...|airflow|This DAG runs a s...|        null|{\"type\": \"timedel...|       null|\n",
      "+--------------------+---------+---------+---------+--------------------+------------+------------+--------------+---------+--------------------+-------+--------------------+------------+--------------------+-----------+\n",
      "\n"
     ]
    },
    {
     "name": "stderr",
     "output_type": "stream",
     "text": [
      "                                                                                \r"
     ]
    }
   ],
   "source": [
    "df_dags = (\n",
    "    spark.read\n",
    "    .format(\"jdbc\")\n",
    "    .option(\"url\", \"jdbc:postgresql://postgres/airflow\")\n",
    "    .option(\"driver\", \"org.postgresql.Driver\")\n",
    "    .option(\"dbtable\", \"public.dag\")\n",
    "    .option(\"user\", \"airflow\")\n",
    "    .option(\"password\", \"airflow\")\n",
    "    .load() )\n",
    "\n",
    "df_dags.show()"
   ]
  },
  {
   "cell_type": "markdown",
   "metadata": {},
   "source": [
    "# Write in MinIO"
   ]
  },
  {
   "cell_type": "code",
   "execution_count": 3,
   "metadata": {},
   "outputs": [
    {
     "name": "stderr",
     "output_type": "stream",
     "text": [
      "21/12/29 17:28:00 WARN MetricsConfig: Cannot locate configuration: tried hadoop-metrics2-s3a-file-system.properties,hadoop-metrics2.properties\n",
      "                                                                                \r"
     ]
    }
   ],
   "source": [
    "df_dags.write.parquet(\"s3a://stage/dags\")"
   ]
  },
  {
   "cell_type": "code",
   "execution_count": 13,
   "metadata": {},
   "outputs": [],
   "source": [
    "spark.stop()"
   ]
  },
  {
   "cell_type": "code",
   "execution_count": null,
   "metadata": {},
   "outputs": [],
   "source": []
  }
 ],
 "metadata": {
  "kernelspec": {
   "display_name": "Python 3 (ipykernel)",
   "language": "python",
   "name": "python3"
  },
  "language_info": {
   "codemirror_mode": {
    "name": "ipython",
    "version": 3
   },
   "file_extension": ".py",
   "mimetype": "text/x-python",
   "name": "python",
   "nbconvert_exporter": "python",
   "pygments_lexer": "ipython3",
   "version": "3.9.7"
  }
 },
 "nbformat": 4,
 "nbformat_minor": 4
}
