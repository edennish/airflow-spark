{
 "cells": [
  {
   "cell_type": "markdown",
   "id": "cf75c931-0b68-4a47-bf0d-25d424afd87e",
   "metadata": {},
   "source": [
    "# MinIO Test"
   ]
  },
  {
   "cell_type": "code",
   "execution_count": 16,
   "id": "c4fa12d9",
   "metadata": {},
   "outputs": [],
   "source": [
    "from pyspark.sql import SparkSession\n",
    "\n",
    "# Spark session & context\n",
    "spark = (SparkSession\n",
    "         .builder\n",
    "         .master(\"spark://spark:7077\")\n",
    "         .appName(\"MinIO-Integration\")\n",
    "         # Add postgres jar\n",
    "         .config('spark.jars.packages', 'com.amazonaws:aws-java-sdk-bundle:1.11.315,org.apache.hadoop:hadoop-aws:3.2.0') \n",
    "         .config(\"spark.hadoop.fs.s3a.endpoint\", \"http://minio:9000\")\n",
    "         .config(\"spark.hadoop.fs.s3a.access.key\", \"minio\")\n",
    "         .config(\"spark.hadoop.fs.s3a.secret.key\", \"miniosecret\")\n",
    "         .config(\"spark.hadoop.fs.s3a.path.style.access\", True)\n",
    "         .config(\"spark.hadoop.fs.s3a.impl\", \"org.apache.hadoop.fs.s3a.S3AFileSystem\")\n",
    "         #.config(\"fs.s3a.multipart.size\", \"104857600\")\n",
    "         #set('fs.s3a.aws.credentials.provider', 'org.apache.hadoop.fs.s3a.TemporaryAWSCredentialsProvider')\n",
    "         #set('fs.s3a.session.token', credentials['SessionToken'])\n",
    "         .getOrCreate())"
   ]
  },
  {
   "cell_type": "code",
   "execution_count": 17,
   "id": "6ece51f2",
   "metadata": {},
   "outputs": [
    {
     "name": "stderr",
     "output_type": "stream",
     "text": [
      "                                                                                \r"
     ]
    }
   ],
   "source": [
    "train = spark.read\\\n",
    "            .option(\"header\", \"true\")\\\n",
    "            .option(\"inferSchema\", \"true\")\\\n",
    "            .csv(\"s3a://stage/train.csv\")\n",
    "train.registerTempTable(\"train\")"
   ]
  },
  {
   "cell_type": "code",
   "execution_count": 18,
   "id": "d8181734",
   "metadata": {},
   "outputs": [
    {
     "name": "stdout",
     "output_type": "stream",
     "text": [
      "root\n",
      " |-- ID: integer (nullable = true)\n",
      " |-- Loan Amount: integer (nullable = true)\n",
      " |-- Funded Amount: integer (nullable = true)\n",
      " |-- Funded Amount Investor: double (nullable = true)\n",
      " |-- Term: integer (nullable = true)\n",
      " |-- Batch Enrolled: string (nullable = true)\n",
      " |-- Interest Rate: double (nullable = true)\n",
      " |-- Grade: string (nullable = true)\n",
      " |-- Sub Grade: string (nullable = true)\n",
      " |-- Employment Duration: string (nullable = true)\n",
      " |-- Home Ownership: double (nullable = true)\n",
      " |-- Verification Status: string (nullable = true)\n",
      " |-- Payment Plan: string (nullable = true)\n",
      " |-- Loan Title: string (nullable = true)\n",
      " |-- Debit to Income: double (nullable = true)\n",
      " |-- Delinquency - two years: integer (nullable = true)\n",
      " |-- Inquires - six months: integer (nullable = true)\n",
      " |-- Open Account: integer (nullable = true)\n",
      " |-- Public Record: integer (nullable = true)\n",
      " |-- Revolving Balance: integer (nullable = true)\n",
      " |-- Revolving Utilities: double (nullable = true)\n",
      " |-- Total Accounts: integer (nullable = true)\n",
      " |-- Initial List Status: string (nullable = true)\n",
      " |-- Total Received Interest: double (nullable = true)\n",
      " |-- Total Received Late Fee: double (nullable = true)\n",
      " |-- Recoveries: double (nullable = true)\n",
      " |-- Collection Recovery Fee: double (nullable = true)\n",
      " |-- Collection 12 months Medical: integer (nullable = true)\n",
      " |-- Application Type: string (nullable = true)\n",
      " |-- Last week Pay: integer (nullable = true)\n",
      " |-- Accounts Delinquent: integer (nullable = true)\n",
      " |-- Total Collection Amount: integer (nullable = true)\n",
      " |-- Total Current Balance: integer (nullable = true)\n",
      " |-- Total Revolving Credit Limit: integer (nullable = true)\n",
      " |-- Loan Status: integer (nullable = true)\n",
      "\n"
     ]
    }
   ],
   "source": [
    "train.printSchema()"
   ]
  },
  {
   "cell_type": "code",
   "execution_count": 19,
   "id": "83dc0377",
   "metadata": {},
   "outputs": [
    {
     "name": "stderr",
     "output_type": "stream",
     "text": [
      "                                                                                \r"
     ]
    },
    {
     "name": "stdout",
     "output_type": "stream",
     "text": [
      "+----------------+----------------+\n",
      "|Application Type|sum(Loan Amount)|\n",
      "+----------------+----------------+\n",
      "|           JOINT|         2162735|\n",
      "|      INDIVIDUAL|      1134514793|\n",
      "+----------------+----------------+\n",
      "\n"
     ]
    },
    {
     "name": "stderr",
     "output_type": "stream",
     "text": [
      "                                                                                \r"
     ]
    }
   ],
   "source": [
    "train.groupBy(\"Application Type\").sum(\"Loan Amount\").show()"
   ]
  },
  {
   "cell_type": "code",
   "execution_count": 20,
   "id": "c86fa636",
   "metadata": {},
   "outputs": [],
   "source": [
    "train.registerTempTable(\"train\")"
   ]
  },
  {
   "cell_type": "code",
   "execution_count": 21,
   "id": "7dc0c372",
   "metadata": {},
   "outputs": [],
   "source": [
    "App_Types = spark.sql(\"\"\"\n",
    "    SELECT `Application Type` as Application_Type, sum(`Loan Amount`) as Balance\n",
    "    FROM train\n",
    "    group by `Application Type`\n",
    "\"\"\")"
   ]
  },
  {
   "cell_type": "code",
   "execution_count": 22,
   "id": "04450679",
   "metadata": {},
   "outputs": [
    {
     "name": "stdout",
     "output_type": "stream",
     "text": [
      "+----------------+----------+\n",
      "|Application_Type|   Balance|\n",
      "+----------------+----------+\n",
      "|           JOINT|   2162735|\n",
      "|      INDIVIDUAL|1134514793|\n",
      "+----------------+----------+\n",
      "\n"
     ]
    }
   ],
   "source": [
    "App_Types.show()"
   ]
  },
  {
   "cell_type": "code",
   "execution_count": 9,
   "id": "203ca459",
   "metadata": {},
   "outputs": [
    {
     "name": "stderr",
     "output_type": "stream",
     "text": [
      "                                                                                \r"
     ]
    }
   ],
   "source": [
    "App_Types.write.parquet(\"s3a://stage/app_types\")"
   ]
  },
  {
   "cell_type": "code",
   "execution_count": 23,
   "id": "2a83bf14",
   "metadata": {},
   "outputs": [],
   "source": [
    "test = spark.read.parquet(\"s3a://stage/app_types\")"
   ]
  },
  {
   "cell_type": "code",
   "execution_count": 24,
   "id": "13531990",
   "metadata": {},
   "outputs": [
    {
     "name": "stdout",
     "output_type": "stream",
     "text": [
      "root\n",
      " |-- Application_Type: string (nullable = true)\n",
      " |-- Balance: long (nullable = true)\n",
      "\n"
     ]
    }
   ],
   "source": [
    "test.printSchema()"
   ]
  },
  {
   "cell_type": "code",
   "execution_count": 25,
   "id": "d4624f5d",
   "metadata": {},
   "outputs": [
    {
     "name": "stderr",
     "output_type": "stream",
     "text": [
      "[Stage 24:=============================>                            (1 + 1) / 2]\r"
     ]
    },
    {
     "name": "stdout",
     "output_type": "stream",
     "text": [
      "+----------------+----------+\n",
      "|Application_Type|   Balance|\n",
      "+----------------+----------+\n",
      "|      INDIVIDUAL|1134514793|\n",
      "|           JOINT|   2162735|\n",
      "+----------------+----------+\n",
      "\n"
     ]
    },
    {
     "name": "stderr",
     "output_type": "stream",
     "text": [
      "                                                                                \r"
     ]
    }
   ],
   "source": [
    "test.show()"
   ]
  },
  {
   "cell_type": "code",
   "execution_count": 26,
   "id": "5a3619cd",
   "metadata": {},
   "outputs": [
    {
     "name": "stderr",
     "output_type": "stream",
     "text": [
      "21/12/27 22:35:24 WARN Dispatcher: Message RemoteProcessDisconnected(172.21.0.3:59350) dropped. Could not find BlockManagerMasterHeartbeat.\n"
     ]
    }
   ],
   "source": [
    "spark.stop()"
   ]
  },
  {
   "cell_type": "code",
   "execution_count": null,
   "id": "ecb857bd-cd1d-45c7-9f18-9596ab840e48",
   "metadata": {},
   "outputs": [],
   "source": []
  }
 ],
 "metadata": {
  "kernelspec": {
   "display_name": "Python 3 (ipykernel)",
   "language": "python",
   "name": "python3"
  },
  "language_info": {
   "codemirror_mode": {
    "name": "ipython",
    "version": 3
   },
   "file_extension": ".py",
   "mimetype": "text/x-python",
   "name": "python",
   "nbconvert_exporter": "python",
   "pygments_lexer": "ipython3",
   "version": "3.9.7"
  }
 },
 "nbformat": 4,
 "nbformat_minor": 5
}
